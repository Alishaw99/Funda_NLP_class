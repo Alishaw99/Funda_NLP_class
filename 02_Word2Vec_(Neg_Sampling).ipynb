{
  "cells": [
    {
      "cell_type": "markdown",
      "metadata": {
        "id": "view-in-github",
        "colab_type": "text"
      },
      "source": [
        "<a href=\"https://colab.research.google.com/github/Alishaw99/Funda_NLP_class/blob/main/02_Word2Vec_(Neg_Sampling).ipynb\" target=\"_parent\"><img src=\"https://colab.research.google.com/assets/colab-badge.svg\" alt=\"Open In Colab\"/></a>"
      ]
    },
    {
      "cell_type": "markdown",
      "metadata": {
        "id": "aEJjtpvFBxW7"
      },
      "source": [
        "# Word2Vec (Negative Sampling)"
      ]
    },
    {
      "cell_type": "code",
      "execution_count": 1,
      "metadata": {
        "id": "G2qWxfYQBxW9"
      },
      "outputs": [],
      "source": [
        "import numpy as np\n",
        "import torch\n",
        "import torch.nn as nn\n",
        "import torch.optim as optim\n",
        "import matplotlib.pyplot as plt"
      ]
    },
    {
      "cell_type": "code",
      "execution_count": 2,
      "metadata": {
        "id": "WKpH5csXBxW-",
        "outputId": "bf8d2c50-2d1d-49da-fe5c-6b705243bd8f",
        "colab": {
          "base_uri": "https://localhost:8080/"
        }
      },
      "outputs": [
        {
          "output_type": "execute_result",
          "data": {
            "text/plain": [
              "('1.26.4', '2.5.1+cu121')"
            ]
          },
          "metadata": {},
          "execution_count": 2
        }
      ],
      "source": [
        "np.__version__, torch.__version__"
      ]
    },
    {
      "cell_type": "code",
      "execution_count": 3,
      "metadata": {
        "id": "AOwTKiJhBxW_",
        "outputId": "399c5daa-eaa8-42a2-c6ac-5a52977c1b16",
        "colab": {
          "base_uri": "https://localhost:8080/",
          "height": 35
        }
      },
      "outputs": [
        {
          "output_type": "execute_result",
          "data": {
            "text/plain": [
              "'3.8.0'"
            ],
            "application/vnd.google.colaboratory.intrinsic+json": {
              "type": "string"
            }
          },
          "metadata": {},
          "execution_count": 3
        }
      ],
      "source": [
        "import matplotlib\n",
        "matplotlib.__version__"
      ]
    },
    {
      "cell_type": "markdown",
      "metadata": {
        "id": "OjzMgIPuBxXA"
      },
      "source": [
        "## 1. Load data"
      ]
    },
    {
      "cell_type": "code",
      "execution_count": 4,
      "metadata": {
        "id": "roqBNP3VBxXA"
      },
      "outputs": [],
      "source": [
        "corpus = [\"apple banana fruit\", \"banana apple fruit\", \"banana fruit apple\", \"grape apple apple\",\n",
        "        \"dog cat animal\", \"cat dog animal\", \"cat animal dog\", \"fish dog dog\"]"
      ]
    },
    {
      "cell_type": "code",
      "execution_count": 5,
      "metadata": {
        "id": "kpcH4taaBxXA",
        "outputId": "0624f0a2-10cc-4b36-fa54-777d20d29ab0",
        "colab": {
          "base_uri": "https://localhost:8080/"
        }
      },
      "outputs": [
        {
          "output_type": "execute_result",
          "data": {
            "text/plain": [
              "[['apple', 'banana', 'fruit'],\n",
              " ['banana', 'apple', 'fruit'],\n",
              " ['banana', 'fruit', 'apple'],\n",
              " ['grape', 'apple', 'apple'],\n",
              " ['dog', 'cat', 'animal'],\n",
              " ['cat', 'dog', 'animal'],\n",
              " ['cat', 'animal', 'dog'],\n",
              " ['fish', 'dog', 'dog']]"
            ]
          },
          "metadata": {},
          "execution_count": 5
        }
      ],
      "source": [
        "#1. tokenization\n",
        "corpus = [sent.split(\" \") for sent in corpus]\n",
        "corpus"
      ]
    },
    {
      "cell_type": "code",
      "execution_count": 45,
      "metadata": {
        "id": "rk_k7WpDBxXA"
      },
      "outputs": [],
      "source": [
        "#2. numeralization\n",
        "#find unique words\n",
        "flatten = lambda l: [item for sublist in l for item in sublist]\n",
        "#assign unique integer\n",
        "vocabs = list(set(flatten(corpus))) #all the words we have in the system - <UNK>"
      ]
    },
    {
      "cell_type": "code",
      "execution_count": 7,
      "metadata": {
        "id": "_dEomr1WBxXB",
        "outputId": "467c5876-a0b4-4893-8205-76d4c8ca3a0e",
        "colab": {
          "base_uri": "https://localhost:8080/"
        }
      },
      "outputs": [
        {
          "output_type": "execute_result",
          "data": {
            "text/plain": [
              "7"
            ]
          },
          "metadata": {},
          "execution_count": 7
        }
      ],
      "source": [
        "#create handy mapping between integer and word\n",
        "word2index = {v:idx for idx, v in enumerate(vocabs)}\n",
        "word2index['dog']"
      ]
    },
    {
      "cell_type": "code",
      "execution_count": 8,
      "metadata": {
        "id": "EJCe0oYVBxXB"
      },
      "outputs": [],
      "source": [
        "vocabs.append('<UNK>')\n",
        "word2index['<UNK>'] = 6"
      ]
    },
    {
      "cell_type": "code",
      "execution_count": 9,
      "metadata": {
        "id": "1HM8F4rrBxXB",
        "outputId": "351fb052-0424-4ca8-f6d3-b3f0483469c2",
        "colab": {
          "base_uri": "https://localhost:8080/",
          "height": 35
        }
      },
      "outputs": [
        {
          "output_type": "execute_result",
          "data": {
            "text/plain": [
              "'fish'"
            ],
            "application/vnd.google.colaboratory.intrinsic+json": {
              "type": "string"
            }
          },
          "metadata": {},
          "execution_count": 9
        }
      ],
      "source": [
        "index2word = {v:k for k, v in word2index.items()}\n",
        "index2word[5]"
      ]
    },
    {
      "cell_type": "markdown",
      "metadata": {
        "id": "8zKl9iHMBxXB"
      },
      "source": [
        "## 2. Prepare train data"
      ]
    },
    {
      "cell_type": "code",
      "execution_count": 10,
      "metadata": {
        "id": "d09EFdl5BxXC"
      },
      "outputs": [],
      "source": [
        "#create pairs of center word, and outside word\n",
        "\n",
        "def random_batch(batch_size, corpus):\n",
        "\n",
        "    skipgrams = []\n",
        "\n",
        "    #loop each corpus\n",
        "    for doc in corpus:\n",
        "        #look from the 2nd word until second last word\n",
        "        for i in range(1, len(doc)-1):\n",
        "            #center word\n",
        "            center = word2index[doc[i]]\n",
        "            #outside words = 2 words\n",
        "            outside = (word2index[doc[i-1]], word2index[doc[i+1]])\n",
        "            #for each of these two outside words, we gonna append to a list\n",
        "            for each_out in outside:\n",
        "                skipgrams.append([center, each_out])\n",
        "                #center, outside1;   center, outside2\n",
        "\n",
        "    random_index = np.random.choice(range(len(skipgrams)), batch_size, replace=False)\n",
        "\n",
        "    inputs, labels = [], []\n",
        "    for index in random_index:\n",
        "        inputs.append([skipgrams[index][0]])\n",
        "        labels.append([skipgrams[index][1]])\n",
        "\n",
        "    return np.array(inputs), np.array(labels)\n",
        "\n",
        "x, y = random_batch(2, corpus)"
      ]
    },
    {
      "cell_type": "code",
      "execution_count": 11,
      "metadata": {
        "id": "yz71IkzBBxXC",
        "outputId": "7be0efdb-6cb0-48f9-e99f-cceb461d0ae7",
        "colab": {
          "base_uri": "https://localhost:8080/"
        }
      },
      "outputs": [
        {
          "output_type": "execute_result",
          "data": {
            "text/plain": [
              "(2, 1)"
            ]
          },
          "metadata": {},
          "execution_count": 11
        }
      ],
      "source": [
        "x.shape  #batch_size, 1"
      ]
    },
    {
      "cell_type": "code",
      "execution_count": 12,
      "metadata": {
        "id": "XtGuI_iWBxXC",
        "outputId": "4a2c3950-7d70-416e-a88c-fb91ae36770c",
        "colab": {
          "base_uri": "https://localhost:8080/"
        }
      },
      "outputs": [
        {
          "output_type": "execute_result",
          "data": {
            "text/plain": [
              "array([[7],\n",
              "       [0]])"
            ]
          },
          "metadata": {},
          "execution_count": 12
        }
      ],
      "source": [
        "x"
      ]
    },
    {
      "cell_type": "code",
      "execution_count": 13,
      "metadata": {
        "id": "LVv9g47TBxXC",
        "outputId": "0f64382d-75a6-467f-ffd4-a84f8c0dc2ac",
        "colab": {
          "base_uri": "https://localhost:8080/"
        }
      },
      "outputs": [
        {
          "output_type": "execute_result",
          "data": {
            "text/plain": [
              "(2, 1)"
            ]
          },
          "metadata": {},
          "execution_count": 13
        }
      ],
      "source": [
        "y.shape  #batch_size 1"
      ]
    },
    {
      "cell_type": "markdown",
      "metadata": {
        "id": "AUdVJwQ0BxXC"
      },
      "source": [
        "## 3. Negative Sampling\n",
        "\n",
        "### Unigram distribution\n",
        "\n",
        "$$P(w)=U(w)^{3/4}/Z$$"
      ]
    },
    {
      "cell_type": "code",
      "execution_count": 14,
      "metadata": {
        "id": "h6owr3Y0BxXD"
      },
      "outputs": [],
      "source": [
        "z = 0.001"
      ]
    },
    {
      "cell_type": "code",
      "execution_count": 15,
      "metadata": {
        "id": "bjpzlJh0BxXD",
        "outputId": "29b59100-f875-48f3-8878-72d869cb2b26",
        "colab": {
          "base_uri": "https://localhost:8080/"
        }
      },
      "outputs": [
        {
          "output_type": "execute_result",
          "data": {
            "text/plain": [
              "24"
            ]
          },
          "metadata": {},
          "execution_count": 15
        }
      ],
      "source": [
        "#count\n",
        "from collections import Counter\n",
        "\n",
        "word_count = Counter(flatten(corpus))\n",
        "word_count\n",
        "\n",
        "#get the total number of words\n",
        "num_total_words = sum([c for w, c in word_count.items()])\n",
        "num_total_words"
      ]
    },
    {
      "cell_type": "code",
      "execution_count": 16,
      "metadata": {
        "id": "5Ar-tjXZBxXD",
        "outputId": "384e1f64-38b1-4549-e52e-876054e26438",
        "colab": {
          "base_uri": "https://localhost:8080/"
        }
      },
      "outputs": [
        {
          "output_type": "execute_result",
          "data": {
            "text/plain": [
              "['banana', 'animal', 'grape', 'fruit', 'cat', 'fish', 'apple', 'dog', '<UNK>']"
            ]
          },
          "metadata": {},
          "execution_count": 16
        }
      ],
      "source": [
        "vocabs"
      ]
    },
    {
      "cell_type": "markdown",
      "metadata": {
        "id": "DAVhbZmRBxXD"
      },
      "source": [
        "$$P(w)=U(w)^{3/4}/Z$$"
      ]
    },
    {
      "cell_type": "code",
      "execution_count": 17,
      "metadata": {
        "id": "2JV8ZS_VBxXD",
        "outputId": "ad8e6b92-852e-47a8-871e-d471dd968b23",
        "colab": {
          "base_uri": "https://localhost:8080/"
        }
      },
      "outputs": [
        {
          "output_type": "execute_result",
          "data": {
            "text/plain": [
              "Counter({'banana': 210,\n",
              "         'animal': 210,\n",
              "         'grape': 92,\n",
              "         'fruit': 210,\n",
              "         'cat': 210,\n",
              "         'fish': 92,\n",
              "         'apple': 308,\n",
              "         'dog': 308})"
            ]
          },
          "metadata": {},
          "execution_count": 17
        }
      ],
      "source": [
        "unigram_table = []\n",
        "\n",
        "for v in vocabs:\n",
        "    uw = word_count[v] / num_total_words\n",
        "    uw_alpha = int((uw ** 0.75) / z)\n",
        "    unigram_table.extend([v] * uw_alpha)\n",
        "\n",
        "Counter(unigram_table)"
      ]
    },
    {
      "cell_type": "markdown",
      "metadata": {
        "id": "axpnGDZ7BxXE"
      },
      "source": [
        "## 4. Model\n",
        "\n",
        "$$\\mathbf{J}_{\\text{neg-sample}}(\\mathbf{v}_c,o,\\mathbf{U})=-\\log(\\sigma(\\mathbf{u}_o^T\\mathbf{v}_c))-\\sum_{k=1}^K\\log(\\sigma(-\\mathbf{u}_k^T\\mathbf{v}_c))$$"
      ]
    },
    {
      "cell_type": "code",
      "execution_count": 18,
      "metadata": {
        "id": "4y5i2ezHBxXE"
      },
      "outputs": [],
      "source": [
        "def prepare_sequence(seq, word2index):\n",
        "    idxs = list(map(lambda w: word2index[w] if word2index.get(w) is not None else word2index['<UNK>'], seq))\n",
        "    return torch.LongTensor(idxs)"
      ]
    },
    {
      "cell_type": "code",
      "execution_count": 19,
      "metadata": {
        "id": "qXjFvGS0BxXE"
      },
      "outputs": [],
      "source": [
        "import random\n",
        "\n",
        "def negative_sampling(targets, unigram_table, k):\n",
        "    batch_size = targets.shape[0]\n",
        "    neg_samples = []\n",
        "    for i in range(batch_size):  #(1, k)\n",
        "        target_index = targets[i].item()\n",
        "        nsample      = []\n",
        "        while (len(nsample) < k):\n",
        "            neg = random.choice(unigram_table)\n",
        "            if word2index[neg] == target_index:\n",
        "                continue\n",
        "            nsample.append(neg)\n",
        "        neg_samples.append(prepare_sequence(nsample, word2index).reshape(1, -1))\n",
        "\n",
        "    return torch.cat(neg_samples) #batch_size, k"
      ]
    },
    {
      "cell_type": "code",
      "execution_count": 20,
      "metadata": {
        "id": "p9rPKVUzBxXE"
      },
      "outputs": [],
      "source": [
        "batch_size = 2\n",
        "x, y = random_batch(batch_size, corpus)\n",
        "x_tensor = torch.LongTensor(x)\n",
        "y_tensor = torch.LongTensor(y)"
      ]
    },
    {
      "cell_type": "code",
      "execution_count": 21,
      "metadata": {
        "id": "62jqDae_BxXE"
      },
      "outputs": [],
      "source": [
        "k = 5\n",
        "neg_samples = negative_sampling(y_tensor, unigram_table, k)"
      ]
    },
    {
      "cell_type": "code",
      "execution_count": 22,
      "metadata": {
        "id": "v40WjVhDBxXE",
        "outputId": "46d390eb-b073-4c94-9a2a-6eb441ab1bb1",
        "colab": {
          "base_uri": "https://localhost:8080/"
        }
      },
      "outputs": [
        {
          "output_type": "execute_result",
          "data": {
            "text/plain": [
              "tensor([2])"
            ]
          },
          "metadata": {},
          "execution_count": 22
        }
      ],
      "source": [
        "y_tensor[1]"
      ]
    },
    {
      "cell_type": "code",
      "execution_count": 23,
      "metadata": {
        "id": "BdSnIPRNBxXF",
        "outputId": "0d21dfc0-7b47-4305-ac69-67803ce81ac0",
        "colab": {
          "base_uri": "https://localhost:8080/"
        }
      },
      "outputs": [
        {
          "output_type": "execute_result",
          "data": {
            "text/plain": [
              "tensor([7, 6, 1, 0, 7])"
            ]
          },
          "metadata": {},
          "execution_count": 23
        }
      ],
      "source": [
        "neg_samples[1]"
      ]
    },
    {
      "cell_type": "markdown",
      "metadata": {
        "id": "xZ5HgMIcBxXF"
      },
      "source": [
        "$$\\mathbf{J}_{\\text{neg-sample}}(\\mathbf{v}_c,o,\\mathbf{U})=-\\log(\\sigma(\\mathbf{u}_o^T\\mathbf{v}_c))-\\sum_{k=1}^K\\log(\\sigma(-\\mathbf{u}_k^T\\mathbf{v}_c))$$"
      ]
    },
    {
      "cell_type": "code",
      "execution_count": 24,
      "metadata": {
        "id": "19_Re4lUBxXF"
      },
      "outputs": [],
      "source": [
        "class SkipgramNeg(nn.Module):\n",
        "\n",
        "    def __init__(self, voc_size, emb_size):\n",
        "        super(SkipgramNeg, self).__init__()\n",
        "        self.embedding_center  = nn.Embedding(voc_size, emb_size)\n",
        "        self.embedding_outside = nn.Embedding(voc_size, emb_size)\n",
        "        self.logsigmoid        = nn.LogSigmoid()\n",
        "\n",
        "    def forward(self, center, outside, negative):\n",
        "        #center, outside:  (bs, 1)\n",
        "        #negative       :  (bs, k)\n",
        "\n",
        "        center_embed   = self.embedding_center(center) #(bs, 1, emb_size)\n",
        "        outside_embed  = self.embedding_outside(outside) #(bs, 1, emb_size)\n",
        "        negative_embed = self.embedding_outside(negative) #(bs, k, emb_size)\n",
        "\n",
        "        uovc           = outside_embed.bmm(center_embed.transpose(1, 2)).squeeze(2) #(bs, 1)\n",
        "        ukvc           = -negative_embed.bmm(center_embed.transpose(1, 2)).squeeze(2) #(bs, k)\n",
        "        ukvc_sum       = torch.sum(ukvc, 1).reshape(-1, 1) #(bs, 1)\n",
        "\n",
        "        loss           = self.logsigmoid(uovc) + self.logsigmoid(ukvc_sum)\n",
        "\n",
        "        return -torch.mean(loss)"
      ]
    },
    {
      "cell_type": "code",
      "execution_count": 25,
      "metadata": {
        "id": "MmtSRliZBxXG"
      },
      "outputs": [],
      "source": [
        "#test your model\n",
        "emb_size = 2\n",
        "voc_size = len(vocabs)\n",
        "model = SkipgramNeg(voc_size, emb_size)"
      ]
    },
    {
      "cell_type": "code",
      "execution_count": 26,
      "metadata": {
        "id": "wSJcyefBBxXG"
      },
      "outputs": [],
      "source": [
        "loss = model(x_tensor, y_tensor, neg_samples)"
      ]
    },
    {
      "cell_type": "code",
      "execution_count": 27,
      "metadata": {
        "id": "RCG40onUBxXG",
        "outputId": "59e21a2d-7386-436d-8ec3-56ea90a6d07d",
        "colab": {
          "base_uri": "https://localhost:8080/"
        }
      },
      "outputs": [
        {
          "output_type": "execute_result",
          "data": {
            "text/plain": [
              "tensor(1.2944, grad_fn=<NegBackward0>)"
            ]
          },
          "metadata": {},
          "execution_count": 27
        }
      ],
      "source": [
        "loss"
      ]
    },
    {
      "cell_type": "markdown",
      "metadata": {
        "id": "tz8FAeBoBxXG"
      },
      "source": [
        "## 5. Training"
      ]
    },
    {
      "cell_type": "code",
      "execution_count": 28,
      "metadata": {
        "id": "nw_Xz7u-BxXG"
      },
      "outputs": [],
      "source": [
        "optimizer = optim.Adam(model.parameters(), lr=0.001)"
      ]
    },
    {
      "cell_type": "code",
      "execution_count": 29,
      "metadata": {
        "id": "-rAgewd0BxXH",
        "outputId": "b397f43f-c4ca-4191-96ee-b15ca135333c",
        "colab": {
          "base_uri": "https://localhost:8080/"
        }
      },
      "outputs": [
        {
          "output_type": "stream",
          "name": "stdout",
          "text": [
            "Epoch   1000 | Loss: 0.750364\n",
            "Epoch   2000 | Loss: 0.901775\n",
            "Epoch   3000 | Loss: 0.741307\n",
            "Epoch   4000 | Loss: 0.738726\n",
            "Epoch   5000 | Loss: 0.583431\n",
            "Epoch   6000 | Loss: 0.540490\n",
            "Epoch   7000 | Loss: 0.391713\n",
            "Epoch   8000 | Loss: 2.682923\n",
            "Epoch   9000 | Loss: 0.356911\n",
            "Epoch  10000 | Loss: 0.236641\n"
          ]
        }
      ],
      "source": [
        "num_epochs = 10000\n",
        "\n",
        "for epoch in range(num_epochs):\n",
        "\n",
        "    #get batch\n",
        "    input_batch, label_batch = random_batch(batch_size, corpus)\n",
        "    input_tensor = torch.LongTensor(input_batch)\n",
        "    label_tensor = torch.LongTensor(label_batch)\n",
        "\n",
        "    #predict\n",
        "    neg_samples = negative_sampling(label_tensor, unigram_table, k)\n",
        "    loss = model(input_tensor, label_tensor, neg_samples)\n",
        "\n",
        "    #backprogate\n",
        "    optimizer.zero_grad()\n",
        "    loss.backward()\n",
        "\n",
        "    #update alpha\n",
        "    optimizer.step()\n",
        "\n",
        "    #print the loss\n",
        "    if (epoch + 1) % 1000 == 0:\n",
        "        print(f\"Epoch {epoch+1:6.0f} | Loss: {loss:2.6f}\")"
      ]
    },
    {
      "cell_type": "markdown",
      "metadata": {
        "id": "gSi2R4WUBxXH"
      },
      "source": [
        "## 6. Plot the embeddings"
      ]
    },
    {
      "cell_type": "code",
      "execution_count": 30,
      "metadata": {
        "id": "bLtfSBPfBxXH",
        "outputId": "1b72c7e8-af80-4646-9620-117bb11d9f26",
        "colab": {
          "base_uri": "https://localhost:8080/"
        }
      },
      "outputs": [
        {
          "output_type": "execute_result",
          "data": {
            "text/plain": [
              "['banana', 'animal', 'grape', 'fruit', 'cat', 'fish', 'apple', 'dog', '<UNK>']"
            ]
          },
          "metadata": {},
          "execution_count": 30
        }
      ],
      "source": [
        "vocabs"
      ]
    },
    {
      "cell_type": "code",
      "execution_count": 31,
      "metadata": {
        "id": "BAKE0qm7BxXH",
        "outputId": "c8980771-d00b-4cee-a688-9d960380b9e8",
        "colab": {
          "base_uri": "https://localhost:8080/"
        }
      },
      "outputs": [
        {
          "output_type": "execute_result",
          "data": {
            "text/plain": [
              "tensor([0])"
            ]
          },
          "metadata": {},
          "execution_count": 31
        }
      ],
      "source": [
        "banana = torch.LongTensor([word2index['banana']])\n",
        "banana"
      ]
    },
    {
      "cell_type": "code",
      "execution_count": 32,
      "metadata": {
        "id": "RoKFj831BxXH",
        "outputId": "e0589bd2-fb36-46a6-e69d-77f278aa190e",
        "colab": {
          "base_uri": "https://localhost:8080/"
        }
      },
      "outputs": [
        {
          "output_type": "execute_result",
          "data": {
            "text/plain": [
              "tensor([[-1.7660,  0.9689]], grad_fn=<DivBackward0>)"
            ]
          },
          "metadata": {},
          "execution_count": 32
        }
      ],
      "source": [
        "banana_embed_c = model.embedding_center(banana)\n",
        "banana_embed_o = model.embedding_outside(banana)\n",
        "banana_embed   = (banana_embed_c + banana_embed_o) / 2\n",
        "banana_embed"
      ]
    },
    {
      "cell_type": "code",
      "execution_count": 33,
      "metadata": {
        "id": "jo8aLHDzBxXH",
        "outputId": "9d2e82ec-c37d-4c95-b80e-1e5b52f37a57",
        "colab": {
          "base_uri": "https://localhost:8080/"
        }
      },
      "outputs": [
        {
          "output_type": "execute_result",
          "data": {
            "text/plain": [
              "tensor([[-0.8253,  2.3423]], grad_fn=<EmbeddingBackward0>)"
            ]
          },
          "metadata": {},
          "execution_count": 33
        }
      ],
      "source": [
        "banana_embed_o"
      ]
    },
    {
      "cell_type": "code",
      "execution_count": 34,
      "metadata": {
        "id": "3zyaSHEiBxXI"
      },
      "outputs": [],
      "source": [
        "def get_embed(word):\n",
        "    try:\n",
        "        index = word2index[word]\n",
        "    except:\n",
        "        index = word2index['<UNK>']\n",
        "\n",
        "    word = torch.LongTensor([word2index[word]])\n",
        "\n",
        "    embed_c = model.embedding_center(word)\n",
        "    embed_o = model.embedding_outside(word)\n",
        "    embed   = (embed_c + embed_o) / 2\n",
        "\n",
        "    return embed[0][0].item(), embed[0][1].item()"
      ]
    },
    {
      "cell_type": "code",
      "execution_count": 35,
      "metadata": {
        "id": "ze-knoZEBxXI",
        "outputId": "2d68b510-deb8-4c28-8e07-0b0b93497a81",
        "colab": {
          "base_uri": "https://localhost:8080/"
        }
      },
      "outputs": [
        {
          "output_type": "execute_result",
          "data": {
            "text/plain": [
              "(-1.236018180847168, 0.997087836265564)"
            ]
          },
          "metadata": {},
          "execution_count": 35
        }
      ],
      "source": [
        "get_embed('fruit')"
      ]
    },
    {
      "cell_type": "code",
      "execution_count": 36,
      "metadata": {
        "id": "EXGXLG99BxXI",
        "outputId": "67af7059-1212-4a11-833c-fbfd1fe0dbf5",
        "colab": {
          "base_uri": "https://localhost:8080/"
        }
      },
      "outputs": [
        {
          "output_type": "execute_result",
          "data": {
            "text/plain": [
              "(1.3549649715423584, -1.014897108078003)"
            ]
          },
          "metadata": {},
          "execution_count": 36
        }
      ],
      "source": [
        "get_embed('cat')"
      ]
    },
    {
      "cell_type": "code",
      "execution_count": 37,
      "metadata": {
        "id": "bUgvSvX9BxXI",
        "outputId": "6e1ca7c4-8d98-4657-c3a9-b6832c599f26",
        "colab": {
          "base_uri": "https://localhost:8080/"
        }
      },
      "outputs": [
        {
          "output_type": "execute_result",
          "data": {
            "text/plain": [
              "(1.6131280660629272, -1.4158693552017212)"
            ]
          },
          "metadata": {},
          "execution_count": 37
        }
      ],
      "source": [
        "get_embed('dog')"
      ]
    },
    {
      "cell_type": "code",
      "execution_count": 38,
      "metadata": {
        "id": "2PfDyRGBBxXI",
        "outputId": "be9285d3-ebab-40e5-a776-fa3a7f2f6c78",
        "colab": {
          "base_uri": "https://localhost:8080/"
        }
      },
      "outputs": [
        {
          "output_type": "execute_result",
          "data": {
            "text/plain": [
              "(-1.7660422325134277, 0.9688836336135864)"
            ]
          },
          "metadata": {},
          "execution_count": 38
        }
      ],
      "source": [
        "get_embed('banana')"
      ]
    },
    {
      "cell_type": "code",
      "execution_count": 39,
      "metadata": {
        "id": "_hQv0UJ7BxXI",
        "outputId": "7d1812db-2352-4329-aa8d-260a31f16a81",
        "colab": {
          "base_uri": "https://localhost:8080/",
          "height": 295
        }
      },
      "outputs": [
        {
          "output_type": "display_data",
          "data": {
            "text/plain": [
              "<Figure size 600x300 with 1 Axes>"
            ],
            "image/png": "[encoded data removed]"
          },
          "metadata": {}
        }
      ],
      "source": [
        "plt.figure(figsize=(6, 3))\n",
        "for i, word in enumerate(vocabs):\n",
        "    x, y = get_embed(word)\n",
        "    plt.scatter(x, y)\n",
        "    plt.annotate(word, xy=(x, y), xytext=(5, 2), textcoords='offset points')\n",
        "plt.show()"
      ]
    },
    {
      "cell_type": "markdown",
      "metadata": {
        "id": "f7S0bD-cBxXI"
      },
      "source": [
        "## 7. Cosine similarity"
      ]
    },
    {
      "cell_type": "code",
      "execution_count": 40,
      "metadata": {
        "id": "OLaDSSnrBxXI",
        "outputId": "e5236bc1-4ec0-4acc-f770-9756e81347e1",
        "colab": {
          "base_uri": "https://localhost:8080/"
        }
      },
      "outputs": [
        {
          "output_type": "execute_result",
          "data": {
            "text/plain": [
              "(-1.7660422325134277, 0.9688836336135864)"
            ]
          },
          "metadata": {},
          "execution_count": 40
        }
      ],
      "source": [
        "banana = get_embed('banana')\n",
        "banana"
      ]
    },
    {
      "cell_type": "code",
      "execution_count": 41,
      "metadata": {
        "id": "s7moZGWmBxXJ",
        "outputId": "368a430e-fadd-4644-93ca-189b02b78458",
        "colab": {
          "base_uri": "https://localhost:8080/"
        }
      },
      "outputs": [
        {
          "output_type": "execute_result",
          "data": {
            "text/plain": [
              "(-1.236018180847168, 0.997087836265564)"
            ]
          },
          "metadata": {},
          "execution_count": 41
        }
      ],
      "source": [
        "fruit = get_embed('fruit')\n",
        "fruit"
      ]
    },
    {
      "cell_type": "code",
      "execution_count": 42,
      "metadata": {
        "id": "EzUy8vW3BxXJ",
        "outputId": "aa47c03c-cefe-4fa0-d377-fa64c1d3e5b2",
        "colab": {
          "base_uri": "https://localhost:8080/"
        }
      },
      "outputs": [
        {
          "output_type": "execute_result",
          "data": {
            "text/plain": [
              "(1.3549649715423584, -1.014897108078003)"
            ]
          },
          "metadata": {},
          "execution_count": 42
        }
      ],
      "source": [
        "cat = get_embed('cat')\n",
        "cat"
      ]
    },
    {
      "cell_type": "code",
      "execution_count": 43,
      "metadata": {
        "id": "AvvHJXM6BxXJ",
        "outputId": "fbd56215-01de-4299-e4eb-f7d05224081a",
        "colab": {
          "base_uri": "https://localhost:8080/"
        }
      },
      "outputs": [
        {
          "output_type": "execute_result",
          "data": {
            "text/plain": [
              "-3.376242561138696"
            ]
          },
          "metadata": {},
          "execution_count": 43
        }
      ],
      "source": [
        "np.array(banana) @ np.array(cat)"
      ]
    },
    {
      "cell_type": "code",
      "execution_count": 44,
      "metadata": {
        "id": "KWrIqxFfBxXJ",
        "outputId": "6c0d5265-f2e3-445a-8d58-b9bec9b069e5",
        "colab": {
          "base_uri": "https://localhost:8080/"
        }
      },
      "outputs": [
        {
          "output_type": "stream",
          "name": "stdout",
          "text": [
            "-0.9900629996348687\n",
            "0.9843715958733976\n"
          ]
        }
      ],
      "source": [
        "#more formally is to divide by its norm\n",
        "def cosine_similarity(A, B):\n",
        "    dot_product = np.dot(A, B)\n",
        "    norm_a = np.linalg.norm(A)\n",
        "    norm_b = np.linalg.norm(B)\n",
        "    similarity = dot_product / (norm_a * norm_b)\n",
        "    return similarity\n",
        "\n",
        "print(cosine_similarity(np.array(banana), np.array(cat)))\n",
        "print(cosine_similarity(np.array(banana), np.array(fruit)))"
      ]
    }
  ],
  "metadata": {
    "kernelspec": {
      "display_name": "Python 3",
      "name": "python3"
    },
    "language_info": {
      "codemirror_mode": {
        "name": "ipython",
        "version": 3
      },
      "file_extension": ".py",
      "mimetype": "text/x-python",
      "name": "python",
      "nbconvert_exporter": "python",
      "pygments_lexer": "ipython3",
      "version": "3.9.6"
    },
    "orig_nbformat": 4,
    "vscode": {
      "interpreter": {
        "hash": "0f2c79af21be9d001248940c049b6176cf8bfb45cabf7aa85848f5cea0f590f6"
      }
    },
    "colab": {
      "provenance": [],
      "include_colab_link": true
    }
  },
  "nbformat": 4,
  "nbformat_minor": 0
}